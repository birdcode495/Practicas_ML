{
 "cells": [
  {
   "cell_type": "code",
   "execution_count": 1,
   "id": "79348dce-4fa3-4f50-a1be-3e227656bbde",
   "metadata": {},
   "outputs": [
    {
     "name": "stdout",
     "output_type": "stream",
     "text": [
      "Hola mundo\n"
     ]
    }
   ],
   "source": [
    "print('Hola mundo')"
   ]
  },
  {
   "cell_type": "code",
   "execution_count": 3,
   "id": "6d7b6d3f-c166-43ac-a397-2728605962e1",
   "metadata": {},
   "outputs": [
    {
     "name": "stdout",
     "output_type": "stream",
     "text": [
      "[[1 2 3 4]\n",
      " [5 6 7 8]]\n"
     ]
    }
   ],
   "source": [
    "import numpy as np\n",
    "\n",
    "array = np.array([[1,2,3,4], [5,6,7,8]], dtype=np.int64)\n",
    "print(array)"
   ]
  },
  {
   "cell_type": "code",
   "execution_count": 5,
   "id": "a5299a74-07e1-4d38-ba2c-6f3c8c9bab2b",
   "metadata": {},
   "outputs": [
    {
     "name": "stdout",
     "output_type": "stream",
     "text": [
      "[[1. 1. 1. 1.]\n",
      " [1. 1. 1. 1.]\n",
      " [1. 1. 1. 1.]]\n"
     ]
    }
   ],
   "source": [
    "unos = np.ones((3,4))\n",
    "print(unos)"
   ]
  },
  {
   "cell_type": "code",
   "execution_count": 7,
   "id": "33ca6b5a-c030-4ba0-a3ba-b1436ccfde36",
   "metadata": {},
   "outputs": [
    {
     "name": "stdout",
     "output_type": "stream",
     "text": [
      "[[0. 0. 0. 0.]\n",
      " [0. 0. 0. 0.]\n",
      " [0. 0. 0. 0.]]\n"
     ]
    }
   ],
   "source": [
    "ceros = np.zeros((3,4))\n",
    "print(ceros)"
   ]
  },
  {
   "cell_type": "code",
   "execution_count": 9,
   "id": "21e0f5e4-9e36-4618-aa25-bc538972e616",
   "metadata": {},
   "outputs": [
    {
     "name": "stdout",
     "output_type": "stream",
     "text": [
      "[[0.37393288 0.38195663]\n",
      " [0.9406124  0.81168555]]\n"
     ]
    }
   ],
   "source": [
    "aleatorios = np.random.random((2,2))\n",
    "print(aleatorios)"
   ]
  },
  {
   "cell_type": "code",
   "execution_count": 11,
   "id": "321d9976-cf65-4f0f-abf2-98a0b322827d",
   "metadata": {},
   "outputs": [
    {
     "name": "stdout",
     "output_type": "stream",
     "text": [
      "[[0. 0. 0. 0.]\n",
      " [0. 0. 0. 0.]\n",
      " [0. 0. 0. 0.]]\n"
     ]
    }
   ],
   "source": [
    "vacia = np.empty((3,4))\n",
    "print(vacia)"
   ]
  },
  {
   "cell_type": "code",
   "execution_count": 13,
   "id": "3c54829d-eb87-4cd1-ac71-432ebe5b3af5",
   "metadata": {},
   "outputs": [
    {
     "name": "stdout",
     "output_type": "stream",
     "text": [
      "[[7 7 7]\n",
      " [7 7 7]\n",
      " [7 7 7]]\n"
     ]
    }
   ],
   "source": [
    "full = np.full((3,3), 7)\n",
    "print(full)"
   ]
  },
  {
   "cell_type": "code",
   "execution_count": 15,
   "id": "cbf6b01a-eb50-4390-9e81-fa05c3948788",
   "metadata": {},
   "outputs": [
    {
     "name": "stdout",
     "output_type": "stream",
     "text": [
      "[ 0  5 10 15 20 25]\n",
      "[0.  0.5 1.  1.5 2. ]\n"
     ]
    }
   ],
   "source": [
    "espacio1 = np.arange(0,30,5)\n",
    "print(espacio1)\n",
    "\n",
    "espacio2 = np.linspace(0,2,5)\n",
    "print(espacio2)"
   ]
  },
  {
   "cell_type": "code",
   "execution_count": 17,
   "id": "71a3842d-846b-4c25-91ab-25a445aa67d4",
   "metadata": {},
   "outputs": [
    {
     "name": "stdout",
     "output_type": "stream",
     "text": [
      "[[1. 0. 0. 0.]\n",
      " [0. 1. 0. 0.]\n",
      " [0. 0. 1. 0.]\n",
      " [0. 0. 0. 1.]]\n",
      "[[1. 0. 0. 0.]\n",
      " [0. 1. 0. 0.]\n",
      " [0. 0. 1. 0.]\n",
      " [0. 0. 0. 1.]]\n"
     ]
    }
   ],
   "source": [
    "identidad1 = np.eye(4,4)\n",
    "print(identidad1)\n",
    "\n",
    "identidad2 = np.identity(4)\n",
    "print(identidad2)"
   ]
  },
  {
   "cell_type": "code",
   "execution_count": 19,
   "id": "78478530-bd88-440e-90d0-89df700f6e4a",
   "metadata": {},
   "outputs": [
    {
     "name": "stdout",
     "output_type": "stream",
     "text": [
      "2\n"
     ]
    }
   ],
   "source": [
    "print(identidad1.ndim)"
   ]
  },
  {
   "cell_type": "code",
   "execution_count": 21,
   "id": "66d982e6-37a5-427c-995d-62dad95f74f8",
   "metadata": {},
   "outputs": [
    {
     "name": "stdout",
     "output_type": "stream",
     "text": [
      "float64\n"
     ]
    }
   ],
   "source": [
    "print(identidad2.dtype)"
   ]
  },
  {
   "cell_type": "code",
   "execution_count": 23,
   "id": "0cc56015-29d7-44d9-82a6-6b459d26164a",
   "metadata": {},
   "outputs": [
    {
     "name": "stdout",
     "output_type": "stream",
     "text": [
      "4\n",
      "(2, 2)\n"
     ]
    }
   ],
   "source": [
    "print(aleatorios.size)\n",
    "print(aleatorios.shape)"
   ]
  },
  {
   "cell_type": "code",
   "execution_count": 25,
   "id": "89197282-23a5-4ae7-8faa-c5eebe51d29e",
   "metadata": {},
   "outputs": [
    {
     "name": "stdout",
     "output_type": "stream",
     "text": [
      "[[ 8  9 10]\n",
      " [11 12 13]]\n",
      "[[ 8  9]\n",
      " [10 11]\n",
      " [12 13]]\n"
     ]
    }
   ],
   "source": [
    "a = np.array([(8,9,10), (11,12,13)])\n",
    "print(a)\n",
    "\n",
    "a = a.reshape(3,2)\n",
    "print(a)"
   ]
  },
  {
   "cell_type": "code",
   "execution_count": 29,
   "id": "3c4ea29e-d60f-4861-b79f-fd9b0a420a76",
   "metadata": {},
   "outputs": [
    {
     "name": "stdout",
     "output_type": "stream",
     "text": [
      "9\n"
     ]
    }
   ],
   "source": [
    "print(a[0,1])"
   ]
  },
  {
   "cell_type": "code",
   "execution_count": 31,
   "id": "0bc74f09-a982-4aca-802a-6491ac51100b",
   "metadata": {},
   "outputs": [
    {
     "name": "stdout",
     "output_type": "stream",
     "text": [
      "[ 9 13]\n"
     ]
    }
   ],
   "source": [
    "ab = np.array([(8,9,10,11), (12,13,14,15)])\n",
    "print(ab[0:,1])"
   ]
  },
  {
   "cell_type": "code",
   "execution_count": 33,
   "id": "cd1ee01e-1315-47da-85e2-68ddcf65229a",
   "metadata": {},
   "outputs": [
    {
     "name": "stdout",
     "output_type": "stream",
     "text": [
      "[14]\n"
     ]
    }
   ],
   "source": [
    "print(ab[1:,2])"
   ]
  },
  {
   "cell_type": "code",
   "execution_count": 35,
   "id": "871ebb91-db20-456f-9031-9b2127e86fa9",
   "metadata": {},
   "outputs": [
    {
     "name": "stdout",
     "output_type": "stream",
     "text": [
      "2\n",
      "9\n",
      "16\n"
     ]
    }
   ],
   "source": [
    "ad = np.array([2,5,9])\n",
    "print(ad.min())\n",
    "print(ad.max())\n",
    "print(ad.sum())\n"
   ]
  },
  {
   "cell_type": "code",
   "execution_count": 37,
   "id": "6ff13c5b-e7fa-47bd-894b-87a6b3f36492",
   "metadata": {},
   "outputs": [
    {
     "name": "stdout",
     "output_type": "stream",
     "text": [
      "[1.41421356 2.23606798 3.        ]\n",
      "2.8674417556808756\n"
     ]
    }
   ],
   "source": [
    "print(np.sqrt(ad))\n",
    "print(np.std(ad))"
   ]
  },
  {
   "cell_type": "code",
   "execution_count": 39,
   "id": "00b089b7-e636-4086-8102-9c2847e3a010",
   "metadata": {},
   "outputs": [
    {
     "name": "stdout",
     "output_type": "stream",
     "text": [
      "[[ 3  6 10]\n",
      " [17 27 50]]\n",
      "[[ -1  -2  -4]\n",
      " [-11 -19 -40]]\n",
      "[[  2   8  21]\n",
      " [ 42  92 225]]\n",
      "[[0.5        0.5        0.42857143]\n",
      " [0.21428571 0.17391304 0.11111111]]\n"
     ]
    }
   ],
   "source": [
    "x = np.array([(1,2,3), (3,4,5)])\n",
    "y = np.array([(2,4,7), (14,23,45)])\n",
    "\n",
    "print(x+y)\n",
    "print(x-y)\n",
    "print(x*y)\n",
    "print(x/y)"
   ]
  },
  {
   "cell_type": "code",
   "execution_count": null,
   "id": "424911f0-e956-405f-b034-426a1b8779c6",
   "metadata": {},
   "outputs": [],
   "source": []
  }
 ],
 "metadata": {
  "kernelspec": {
   "display_name": "Python 3 (ipykernel)",
   "language": "python",
   "name": "python3"
  },
  "language_info": {
   "codemirror_mode": {
    "name": "ipython",
    "version": 3
   },
   "file_extension": ".py",
   "mimetype": "text/x-python",
   "name": "python",
   "nbconvert_exporter": "python",
   "pygments_lexer": "ipython3",
   "version": "3.12.4"
  }
 },
 "nbformat": 4,
 "nbformat_minor": 5
}
